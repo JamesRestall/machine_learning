{
 "cells": [
  {
   "cell_type": "markdown",
   "id": "da7a0c69-bc7e-4272-afe9-99b833fbf681",
   "metadata": {},
   "source": [
    "**Importing the necessary libraries**"
   ]
  },
  {
   "cell_type": "code",
   "execution_count": 1,
   "id": "a9a9e2c5-c91b-4c2c-8960-d4a919db2996",
   "metadata": {},
   "outputs": [],
   "source": [
    "import pandas as pd\n",
    "import matplotlib.pyplot as plt\n",
    "from sklearn.preprocessing import QuantileTransformer, StandardScaler, OneHotEncoder, LabelEncoder, MinMaxScaler\n",
    "from sklearn.model_selection import train_test_split, GridSearchCV\n",
    "from sklearn.linear_model import LogisticRegression\n",
    "from sklearn.neighbors import KNeighborsClassifier\n",
    "from sklearn.metrics import accuracy_score, confusion_matrix, ConfusionMatrixDisplay, f1_score, recall_score, mean_squared_error\n",
    "from imblearn.under_sampling import RandomUnderSampler\n",
    "from sklearn.tree import DecisionTreeClassifier\n",
    "from sklearn.svm import SVC\n",
    "import numpy as np\n",
    "import seaborn as sns"
   ]
  },
  {
   "cell_type": "markdown",
   "id": "9fd151ea-bdb5-4641-824f-41e16120e8e8",
   "metadata": {},
   "source": [
    "**Import and see general statistics for csv file**"
   ]
  },
  {
   "cell_type": "code",
   "execution_count": 2,
   "id": "ee8bc434-fd9c-4afc-a554-e98790e4aec9",
   "metadata": {},
   "outputs": [],
   "source": [
    "data = pd.read_csv(\"Churn_Modelling.csv\")"
   ]
  },
  {
   "cell_type": "code",
   "execution_count": 3,
   "id": "eb6eec5c-a23e-46d2-a06a-4ae721895375",
   "metadata": {},
   "outputs": [
    {
     "data": {
      "text/html": [
       "<div>\n",
       "<style scoped>\n",
       "    .dataframe tbody tr th:only-of-type {\n",
       "        vertical-align: middle;\n",
       "    }\n",
       "\n",
       "    .dataframe tbody tr th {\n",
       "        vertical-align: top;\n",
       "    }\n",
       "\n",
       "    .dataframe thead th {\n",
       "        text-align: right;\n",
       "    }\n",
       "</style>\n",
       "<table border=\"1\" class=\"dataframe\">\n",
       "  <thead>\n",
       "    <tr style=\"text-align: right;\">\n",
       "      <th></th>\n",
       "      <th>RowNumber</th>\n",
       "      <th>CustomerId</th>\n",
       "      <th>Surname</th>\n",
       "      <th>CreditScore</th>\n",
       "      <th>Geography</th>\n",
       "      <th>Gender</th>\n",
       "      <th>Age</th>\n",
       "      <th>Tenure</th>\n",
       "      <th>Balance</th>\n",
       "      <th>NumOfProducts</th>\n",
       "      <th>HasCrCard</th>\n",
       "      <th>IsActiveMember</th>\n",
       "      <th>EstimatedSalary</th>\n",
       "      <th>Exited</th>\n",
       "    </tr>\n",
       "  </thead>\n",
       "  <tbody>\n",
       "    <tr>\n",
       "      <th>0</th>\n",
       "      <td>1</td>\n",
       "      <td>15634602</td>\n",
       "      <td>Hargrave</td>\n",
       "      <td>619</td>\n",
       "      <td>France</td>\n",
       "      <td>Female</td>\n",
       "      <td>42</td>\n",
       "      <td>2</td>\n",
       "      <td>0.00</td>\n",
       "      <td>1</td>\n",
       "      <td>1</td>\n",
       "      <td>1</td>\n",
       "      <td>101348.88</td>\n",
       "      <td>1</td>\n",
       "    </tr>\n",
       "    <tr>\n",
       "      <th>1</th>\n",
       "      <td>2</td>\n",
       "      <td>15647311</td>\n",
       "      <td>Hill</td>\n",
       "      <td>608</td>\n",
       "      <td>Spain</td>\n",
       "      <td>Female</td>\n",
       "      <td>41</td>\n",
       "      <td>1</td>\n",
       "      <td>83807.86</td>\n",
       "      <td>1</td>\n",
       "      <td>0</td>\n",
       "      <td>1</td>\n",
       "      <td>112542.58</td>\n",
       "      <td>0</td>\n",
       "    </tr>\n",
       "    <tr>\n",
       "      <th>2</th>\n",
       "      <td>3</td>\n",
       "      <td>15619304</td>\n",
       "      <td>Onio</td>\n",
       "      <td>502</td>\n",
       "      <td>France</td>\n",
       "      <td>Female</td>\n",
       "      <td>42</td>\n",
       "      <td>8</td>\n",
       "      <td>159660.80</td>\n",
       "      <td>3</td>\n",
       "      <td>1</td>\n",
       "      <td>0</td>\n",
       "      <td>113931.57</td>\n",
       "      <td>1</td>\n",
       "    </tr>\n",
       "    <tr>\n",
       "      <th>3</th>\n",
       "      <td>4</td>\n",
       "      <td>15701354</td>\n",
       "      <td>Boni</td>\n",
       "      <td>699</td>\n",
       "      <td>France</td>\n",
       "      <td>Female</td>\n",
       "      <td>39</td>\n",
       "      <td>1</td>\n",
       "      <td>0.00</td>\n",
       "      <td>2</td>\n",
       "      <td>0</td>\n",
       "      <td>0</td>\n",
       "      <td>93826.63</td>\n",
       "      <td>0</td>\n",
       "    </tr>\n",
       "    <tr>\n",
       "      <th>4</th>\n",
       "      <td>5</td>\n",
       "      <td>15737888</td>\n",
       "      <td>Mitchell</td>\n",
       "      <td>850</td>\n",
       "      <td>Spain</td>\n",
       "      <td>Female</td>\n",
       "      <td>43</td>\n",
       "      <td>2</td>\n",
       "      <td>125510.82</td>\n",
       "      <td>1</td>\n",
       "      <td>1</td>\n",
       "      <td>1</td>\n",
       "      <td>79084.10</td>\n",
       "      <td>0</td>\n",
       "    </tr>\n",
       "  </tbody>\n",
       "</table>\n",
       "</div>"
      ],
      "text/plain": [
       "   RowNumber  CustomerId   Surname  CreditScore Geography  Gender  Age  \\\n",
       "0          1    15634602  Hargrave          619    France  Female   42   \n",
       "1          2    15647311      Hill          608     Spain  Female   41   \n",
       "2          3    15619304      Onio          502    France  Female   42   \n",
       "3          4    15701354      Boni          699    France  Female   39   \n",
       "4          5    15737888  Mitchell          850     Spain  Female   43   \n",
       "\n",
       "   Tenure    Balance  NumOfProducts  HasCrCard  IsActiveMember  \\\n",
       "0       2       0.00              1          1               1   \n",
       "1       1   83807.86              1          0               1   \n",
       "2       8  159660.80              3          1               0   \n",
       "3       1       0.00              2          0               0   \n",
       "4       2  125510.82              1          1               1   \n",
       "\n",
       "   EstimatedSalary  Exited  \n",
       "0        101348.88       1  \n",
       "1        112542.58       0  \n",
       "2        113931.57       1  \n",
       "3         93826.63       0  \n",
       "4         79084.10       0  "
      ]
     },
     "execution_count": 3,
     "metadata": {},
     "output_type": "execute_result"
    }
   ],
   "source": [
    "data.head()"
   ]
  },
  {
   "cell_type": "markdown",
   "id": "5780ac45-a6c8-4874-b6c7-03ef895b2ddb",
   "metadata": {},
   "source": [
    "**Checks that all values are present**"
   ]
  },
  {
   "cell_type": "code",
   "execution_count": 4,
   "id": "925ed365-9147-4219-a0e0-596011ce6335",
   "metadata": {},
   "outputs": [
    {
     "data": {
      "text/plain": [
       "RowNumber          0\n",
       "CustomerId         0\n",
       "Surname            0\n",
       "CreditScore        0\n",
       "Geography          0\n",
       "Gender             0\n",
       "Age                0\n",
       "Tenure             0\n",
       "Balance            0\n",
       "NumOfProducts      0\n",
       "HasCrCard          0\n",
       "IsActiveMember     0\n",
       "EstimatedSalary    0\n",
       "Exited             0\n",
       "dtype: int64"
      ]
     },
     "execution_count": 4,
     "metadata": {},
     "output_type": "execute_result"
    }
   ],
   "source": [
    "data.isnull().sum()"
   ]
  },
  {
   "cell_type": "markdown",
   "id": "cae4e881-fb8b-4f6b-a209-f58194701bb6",
   "metadata": {},
   "source": [
    "**Use Encoder to transform strings to numbers**"
   ]
  },
  {
   "cell_type": "code",
   "execution_count": 5,
   "id": "46ef80b1-0f84-4ac6-aa4b-7f7b819d2a37",
   "metadata": {},
   "outputs": [],
   "source": [
    "label_encoder = LabelEncoder()\n",
    "data['Geography'] = label_encoder.fit_transform(data['Geography'])\n",
    "data[\"Gender\"] = label_encoder.fit_transform(data[\"Gender\"])"
   ]
  },
  {
   "cell_type": "markdown",
   "id": "8c77aea6-244a-4dfe-a0bb-0db5b8985ce9",
   "metadata": {},
   "source": [
    "Used to convert the columns with strings into numeric values so they can be used "
   ]
  },
  {
   "cell_type": "markdown",
   "id": "827047a4-8263-4fb6-9c8e-5f0a1402fd4b",
   "metadata": {},
   "source": [
    "**Assigns columns to X(features) and y(target)**"
   ]
  },
  {
   "cell_type": "code",
   "execution_count": 6,
   "id": "8b917b20-c8e5-46c9-82b7-4237372d9023",
   "metadata": {},
   "outputs": [],
   "source": [
    "features = [\"Geography\", \"Gender\", \"Age\", \"Balance\", \"NumOfProducts\", \"IsActiveMember\"]\n",
    "X = data[features]\n",
    "y = data[\"Exited\"] "
   ]
  },
  {
   "cell_type": "markdown",
   "id": "aae860db-eaca-4968-bde3-09fad2960bfb",
   "metadata": {},
   "source": [
    "Assigns the X variable features which were thought to influence the churn of customers (target) from the EDA stage"
   ]
  },
  {
   "cell_type": "markdown",
   "id": "44754722-5098-4654-8d0a-31f2911be1f0",
   "metadata": {},
   "source": [
    "**Undersample the data so there are equal numbers of 0 and 1 for the target**"
   ]
  },
  {
   "cell_type": "code",
   "execution_count": 7,
   "id": "4281178f-b081-4288-bd15-9da61e10992e",
   "metadata": {},
   "outputs": [],
   "source": [
    "under_sampler = RandomUnderSampler(random_state=9)\n",
    "X_resampled, y_resampled = under_sampler.fit_resample(X, y)\n",
    "\n",
    "X_resampled_df = pd.DataFrame(X_resampled, columns=X.columns)\n",
    "y_resampled_df = pd.Series(y_resampled, name=\"Exited\")\n",
    "\n",
    "data = pd.concat([X_resampled_df, y_resampled_df], axis=1)\n"
   ]
  },
  {
   "cell_type": "markdown",
   "id": "b3f7b789-7f7d-4242-b7df-2e1aa20d85b7",
   "metadata": {},
   "source": [
    "**Splits the dataset into training, validation and testing**"
   ]
  },
  {
   "cell_type": "code",
   "execution_count": 8,
   "id": "ccbd739b-2dfe-4cca-9514-a28023abb75f",
   "metadata": {},
   "outputs": [],
   "source": [
    "X_train, X_test, y_train, y_test = train_test_split(X, y, test_size=0.2, random_state=9, stratify=y)"
   ]
  },
  {
   "cell_type": "code",
   "execution_count": 9,
   "id": "f755bc10-a302-417a-ac00-81677187f65c",
   "metadata": {},
   "outputs": [],
   "source": [
    "X_train, X_val, y_train, y_val = train_test_split(X_train, y_train, test_size=0.5, stratify=y_train)"
   ]
  },
  {
   "cell_type": "markdown",
   "id": "12b1c084-9ed6-48ae-915a-d443a162bef0",
   "metadata": {},
   "source": [
    "Splits the data into training, testing and validation subsets. 80% of original is used for training. 10% for training and 10% validation"
   ]
  },
  {
   "cell_type": "markdown",
   "id": "07a89086-3633-4001-9352-bed75a35e2cf",
   "metadata": {},
   "source": [
    "**Fits min max scaler so all data is between 0 and 1**"
   ]
  },
  {
   "cell_type": "code",
   "execution_count": 10,
   "id": "b77a1a6e-1459-495f-a6a0-9d921b321adf",
   "metadata": {},
   "outputs": [
    {
     "data": {
      "text/plain": [
       "array([[0.        , 1.        , 0.32432432, 0.59918558, 0.33333333,\n",
       "        0.        ],\n",
       "       [0.        , 0.        , 0.74324324, 0.62172387, 0.33333333,\n",
       "        1.        ],\n",
       "       [0.        , 0.        , 0.51351351, 0.        , 0.33333333,\n",
       "        1.        ],\n",
       "       ...,\n",
       "       [0.        , 0.        , 0.55405405, 0.        , 0.33333333,\n",
       "        1.        ],\n",
       "       [0.        , 1.        , 0.33783784, 0.        , 0.33333333,\n",
       "        1.        ],\n",
       "       [0.        , 0.        , 0.10810811, 0.7115192 , 0.        ,\n",
       "        1.        ]])"
      ]
     },
     "execution_count": 10,
     "metadata": {},
     "output_type": "execute_result"
    }
   ],
   "source": [
    "X_train_scaled = MinMaxScaler().fit_transform(X_train)\n",
    "X_train_scaled"
   ]
  },
  {
   "cell_type": "markdown",
   "id": "9b4933ad-767e-4e25-be4c-29377120194a",
   "metadata": {},
   "source": [
    "Converts all the values into a value between 0 and 1 so that columns with significantly larger values do not over influence the decisions"
   ]
  },
  {
   "cell_type": "markdown",
   "id": "5efdc2f6-4f02-40e3-8ceb-15ff0ecf2ec4",
   "metadata": {},
   "source": [
    "**Fits different machine learning models to the data**"
   ]
  },
  {
   "cell_type": "code",
   "execution_count": 11,
   "id": "176b16f2-2160-41ab-9a5f-b062aab89628",
   "metadata": {},
   "outputs": [],
   "source": [
    "y_predictions = []"
   ]
  },
  {
   "cell_type": "code",
   "execution_count": 12,
   "id": "28d8ad31-24d0-4ab9-884f-34575470514a",
   "metadata": {},
   "outputs": [
    {
     "data": {
      "text/plain": [
       "Exited\n",
       "0    2037\n",
       "1    2037\n",
       "Name: count, dtype: int64"
      ]
     },
     "execution_count": 12,
     "metadata": {},
     "output_type": "execute_result"
    }
   ],
   "source": [
    "data.Exited.value_counts()"
   ]
  },
  {
   "cell_type": "code",
   "execution_count": 13,
   "id": "9104ed56-54e0-4864-a16c-d222c290a650",
   "metadata": {},
   "outputs": [],
   "source": [
    "log_reg = LogisticRegression(random_state=9, max_iter=10000)\n",
    "log_reg.fit(X_train, y_train)\n",
    "y_predictions.append(log_reg.predict(X_val))\n"
   ]
  },
  {
   "cell_type": "code",
   "execution_count": 14,
   "id": "afc56d28-41f0-40ec-9bb1-a3a74ca6edbe",
   "metadata": {},
   "outputs": [],
   "source": [
    "knn = KNeighborsClassifier()\n",
    "knn.fit(X_train, y_train)\n",
    "y_predictions.append(knn.predict(X_val))\n"
   ]
  },
  {
   "cell_type": "code",
   "execution_count": 15,
   "id": "d98325a5-56c9-4d30-b1d3-8e01512e7fd6",
   "metadata": {},
   "outputs": [],
   "source": [
    "dtc = DecisionTreeClassifier(random_state=9)\n",
    "dtc.fit(X_train, y_train)\n",
    "y_predictions.append(dtc.predict(X_val))\n"
   ]
  },
  {
   "cell_type": "markdown",
   "id": "65a44220-0c6f-4314-849e-deafadf24f74",
   "metadata": {},
   "source": [
    "**Tests the accuracies and f1 scores of all the models and plots graphs**"
   ]
  },
  {
   "cell_type": "code",
   "execution_count": 16,
   "id": "81897d83-5158-4d7c-987a-3ec5deaf82f8",
   "metadata": {},
   "outputs": [
    {
     "name": "stdout",
     "output_type": "stream",
     "text": [
      "Logistic Regression:\n",
      " model accuracy: 0.8065\n",
      "Confusion matrix: [[3079  106]\n",
      " [ 668  147]]\n",
      "F1 Score: 0.2752808988764045\n",
      "Recall score: 0.18036809815950922\n",
      "Mean squared error: 0.1935\n",
      "\n",
      "K nearest neighbour:\n",
      " model accuracy: 0.76325\n",
      "Confusion matrix: [[2942  243]\n",
      " [ 704  111]]\n",
      "F1 Score: 0.1899059024807528\n",
      "Recall score: 0.1361963190184049\n",
      "Mean squared error: 0.23675\n",
      "\n",
      "Decision Tree Classifier:\n",
      " model accuracy: 0.794\n",
      "Confusion matrix: [[2779  406]\n",
      " [ 418  397]]\n",
      "F1 Score: 0.4907292954264524\n",
      "Recall score: 0.48711656441717793\n",
      "Mean squared error: 0.206\n",
      "\n"
     ]
    }
   ],
   "source": [
    "model_names = [\"Logistic Regression\", \"K nearest neighbour\", \"Decision Tree Classifier\"]\n",
    "model_num = 0\n",
    "model_accuracies = []\n",
    "model_cnfs = []\n",
    "model_f1s = []\n",
    "model_recalls = []\n",
    "model_mse = []\n",
    "\n",
    "for y_pred in y_predictions:\n",
    "    \n",
    "    model_accuracies.append(accuracy_score(y_val, y_pred))\n",
    "    model_cnfs.append(confusion_matrix(y_val, y_pred))\n",
    "    model_f1s.append(f1_score(y_val, y_pred))\n",
    "    model_recalls.append(recall_score(y_val, y_pred))\n",
    "    model_mse.append(mean_squared_error(y_val, y_pred))\n",
    "    \n",
    "    print(f\"{model_names[model_num]}:\\n model accuracy: {model_accuracies[model_num]}\")\n",
    "    print(f\"Confusion matrix: {model_cnfs[model_num]}\")\n",
    "    print(f\"F1 Score: {model_f1s[model_num]}\")\n",
    "    print(f\"Recall score: {model_recalls[model_num]}\")\n",
    "    print(f\"Mean squared error: {model_mse[model_num]}\\n\")\n",
    "    model_num += 1"
   ]
  },
  {
   "cell_type": "code",
   "execution_count": 17,
   "id": "fbab70d6-16e5-4df8-a46a-2f70f2885b5d",
   "metadata": {},
   "outputs": [
    {
     "data": {
      "image/png": "[encoded data removed]",
      "text/plain": [
       "<Figure size 1000x600 with 1 Axes>"
      ]
     },
     "metadata": {},
     "output_type": "display_data"
    }
   ],
   "source": [
    "fig, ax = plt.subplots(figsize=(10, 6))\n",
    "\n",
    "bar_width = 0.2\n",
    "index = np.arange(len(model_names))\n",
    "\n",
    "accuracy_bar = ax.bar(index, model_accuracies, bar_width, label='Accuracy')\n",
    "f1_bar = ax.bar(index + bar_width, model_f1s, bar_width, label='F1 Score')\n",
    "recall_bar = ax.bar(index + bar_width*2, model_recalls, bar_width, label=\"Recall\")\n",
    "mse_bar = ax.bar(index + bar_width*3, model_mse, bar_width, label=\"MSE\")\n",
    "\n",
    "\n",
    "ax.set_xlabel('Models')\n",
    "ax.set_ylabel('Scores')\n",
    "ax.set_title('Model Evaluation Metrics')\n",
    "ax.set_xticks(index + bar_width)\n",
    "ax.set_xticklabels(model_names)\n",
    "ax.set_ylim([0, 1])  \n",
    "ax.legend()\n",
    "\n",
    "plt.tight_layout()\n",
    "plt.show()\n"
   ]
  },
  {
   "cell_type": "markdown",
   "id": "51f33bcd-435b-435c-b256-70ba78068949",
   "metadata": {},
   "source": [
    "From these graphs we see that the decision tree classifier is superior as it has a significantly higher F1 score than the others. (Possibly not a need for recall score as f1 score is calculated using recall)"
   ]
  },
  {
   "cell_type": "markdown",
   "id": "4ba1fb08-bef9-4e33-be06-0e5ada5ea93c",
   "metadata": {},
   "source": [
    "**Tests the model with decision tree classifier**"
   ]
  },
  {
   "cell_type": "code",
   "execution_count": 18,
   "id": "6edbc0d8-bb49-413f-94f5-a7d691255108",
   "metadata": {},
   "outputs": [
    {
     "name": "stdout",
     "output_type": "stream",
     "text": [
      "Decision tree classifier:\n",
      " model accuracy: 0.803\n",
      "Confusion matrix: [[1410  183]\n",
      " [ 211  196]]\n",
      "F1 Score: 0.49872773536895676\n",
      "Recall score: 0.48157248157248156\n",
      "Mean squared error: 0.197\n",
      "\n"
     ]
    }
   ],
   "source": [
    "dtc = DecisionTreeClassifier(random_state=9)\n",
    "dtc.fit(X_train, y_train)\n",
    "y_test_pred = dtc.predict(X_test)\n",
    "\n",
    "accuracy = accuracy_score(y_test, y_test_pred)\n",
    "cnfm = confusion_matrix(y_test, y_test_pred)\n",
    "f1_s = f1_score(y_test, y_test_pred)\n",
    "recall = recall_score(y_test, y_test_pred)\n",
    "mse = mean_squared_error(y_test, y_test_pred)\n",
    "\n",
    "tests = [accuracy, f1_s, recall, mse]\n",
    "test_names = [\"Accuracy\", \"F1 Score\", \"Recall\", \"Mean squared error\"]\n",
    "    \n",
    "print(f\"Decision tree classifier:\\n model accuracy: {accuracy}\")\n",
    "print(f\"Confusion matrix: {cnfm}\")\n",
    "print(f\"F1 Score: {f1_s}\")\n",
    "print(f\"Recall score: {recall}\")\n",
    "print(f\"Mean squared error: {mse}\\n\")\n",
    "    "
   ]
  },
  {
   "cell_type": "code",
   "execution_count": 19,
   "id": "13fa046d-2a7e-409d-abe4-548497e20e63",
   "metadata": {},
   "outputs": [
    {
     "data": {
      "image/png": "[encoded data removed]",
      "text/plain": [
       "<Figure size 1000x600 with 1 Axes>"
      ]
     },
     "metadata": {},
     "output_type": "display_data"
    }
   ],
   "source": [
    "plt.figure(figsize=(10,6))\n",
    "sns.barplot(x=test_names, y=tests)\n",
    "plt.ylim(0, 1)\n",
    "plt.ylabel(\"Scale from 0 to 1\")\n",
    "plt.title(\"Boxplot of Values by Category\")\n",
    "plt.grid(True, axis=\"y\")\n",
    "plt.show()"
   ]
  },
  {
   "cell_type": "markdown",
   "id": "45cc6040-da01-457d-81fc-6039c2cf4a81",
   "metadata": {},
   "source": [
    "The model has an alright f1 score and a low mse which is good"
   ]
  },
  {
   "cell_type": "markdown",
   "id": "de7e7a96-59a5-4b79-aa99-dec86578c2f1",
   "metadata": {},
   "source": [
    "**Tests the prediction of the model on test data**"
   ]
  },
  {
   "cell_type": "code",
   "execution_count": 20,
   "id": "0526276b-e7b7-4a32-9c0e-ecfcd7d08b55",
   "metadata": {},
   "outputs": [
    {
     "data": {
      "text/plain": [
       "array([1], dtype=int64)"
      ]
     },
     "execution_count": 20,
     "metadata": {},
     "output_type": "execute_result"
    }
   ],
   "source": [
    "test_record_general = {\n",
    "    \"Geography\": 1,\n",
    "    \"Gender\": 0,\n",
    "    \"Age\": 55,\n",
    "    \"Balance\": 150000,\n",
    "    \"NumOfProducts\": 4,\n",
    "    \"IsActiveMember\": 1\n",
    "    \n",
    "}\n",
    "\n",
    "\n",
    "test_record_df = pd.DataFrame([test_record_general])\n",
    "test_prediction = dtc.predict(test_record_df)\n",
    "\n",
    "test_prediction"
   ]
  },
  {
   "cell_type": "markdown",
   "id": "bd7f588c-2599-49a3-acef-d498fd4e94df",
   "metadata": {},
   "source": [
    "Just plugged in some of my own random data to see what the model would output"
   ]
  },
  {
   "cell_type": "markdown",
   "id": "06e2f32e-9e34-4671-9825-5b091e475561",
   "metadata": {},
   "source": [
    "Next steps:\n",
    "- Hyperparameter tuning\n",
    "- Have a more thorough EDA\n",
    "- Try using different machine learning models (some were too resource-intensive)"
   ]
  }
 ],
 "metadata": {
  "kernelspec": {
   "display_name": "Python 3 (ipykernel)",
   "language": "python",
   "name": "python3"
  },
  "language_info": {
   "codemirror_mode": {
    "name": "ipython",
    "version": 3
   },
   "file_extension": ".py",
   "mimetype": "text/x-python",
   "name": "python",
   "nbconvert_exporter": "python",
   "pygments_lexer": "ipython3",
   "version": "3.12.4"
  }
 },
 "nbformat": 4,
 "nbformat_minor": 5
}

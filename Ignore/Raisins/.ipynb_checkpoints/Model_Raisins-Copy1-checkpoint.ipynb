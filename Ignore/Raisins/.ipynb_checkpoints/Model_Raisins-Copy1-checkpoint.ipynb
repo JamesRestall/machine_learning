{
 "cells": [
  {
   "cell_type": "markdown",
   "id": "da7a0c69-bc7e-4272-afe9-99b833fbf681",
   "metadata": {},
   "source": [
    "**Importing the necessary libraries**"
   ]
  },
  {
   "cell_type": "code",
   "execution_count": 194,
   "id": "a9a9e2c5-c91b-4c2c-8960-d4a919db2996",
   "metadata": {},
   "outputs": [],
   "source": [
    "import pandas as pd\n",
    "import matplotlib.pyplot as plt\n",
    "from sklearn.preprocessing import QuantileTransformer, StandardScaler, OneHotEncoder, LabelEncoder, MinMaxScaler\n",
    "from sklearn.model_selection import train_test_split\n",
    "from sklearn.linear_model import LogisticRegression\n",
    "from sklearn.neighbors import KNeighborsClassifier\n",
    "from sklearn.metrics import accuracy_score, confusion_matrix, ConfusionMatrixDisplay, f1_score\n",
    "import seaborn as sns"
   ]
  },
  {
   "cell_type": "markdown",
   "id": "9fd151ea-bdb5-4641-824f-41e16120e8e8",
   "metadata": {},
   "source": [
    "**Import and see general statistics for csv file**"
   ]
  },
  {
   "cell_type": "code",
   "execution_count": 195,
   "id": "ee8bc434-fd9c-4afc-a554-e98790e4aec9",
   "metadata": {},
   "outputs": [],
   "source": [
    "data = pd.read_csv(\"Churn_Modelling.csv\")"
   ]
  },
  {
   "cell_type": "code",
   "execution_count": 196,
   "id": "eb6eec5c-a23e-46d2-a06a-4ae721895375",
   "metadata": {},
   "outputs": [
    {
     "data": {
      "text/plain": [
       "<bound method NDFrame.head of       RowNumber  CustomerId    Surname  CreditScore Geography  Gender  Age  \\\n",
       "0             1    15634602   Hargrave          619    France  Female   42   \n",
       "1             2    15647311       Hill          608     Spain  Female   41   \n",
       "2             3    15619304       Onio          502    France  Female   42   \n",
       "3             4    15701354       Boni          699    France  Female   39   \n",
       "4             5    15737888   Mitchell          850     Spain  Female   43   \n",
       "...         ...         ...        ...          ...       ...     ...  ...   \n",
       "9995       9996    15606229   Obijiaku          771    France    Male   39   \n",
       "9996       9997    15569892  Johnstone          516    France    Male   35   \n",
       "9997       9998    15584532        Liu          709    France  Female   36   \n",
       "9998       9999    15682355  Sabbatini          772   Germany    Male   42   \n",
       "9999      10000    15628319     Walker          792    France  Female   28   \n",
       "\n",
       "      Tenure    Balance  NumOfProducts  HasCrCard  IsActiveMember  \\\n",
       "0          2       0.00              1          1               1   \n",
       "1          1   83807.86              1          0               1   \n",
       "2          8  159660.80              3          1               0   \n",
       "3          1       0.00              2          0               0   \n",
       "4          2  125510.82              1          1               1   \n",
       "...      ...        ...            ...        ...             ...   \n",
       "9995       5       0.00              2          1               0   \n",
       "9996      10   57369.61              1          1               1   \n",
       "9997       7       0.00              1          0               1   \n",
       "9998       3   75075.31              2          1               0   \n",
       "9999       4  130142.79              1          1               0   \n",
       "\n",
       "      EstimatedSalary  Exited  \n",
       "0           101348.88       1  \n",
       "1           112542.58       0  \n",
       "2           113931.57       1  \n",
       "3            93826.63       0  \n",
       "4            79084.10       0  \n",
       "...               ...     ...  \n",
       "9995         96270.64       0  \n",
       "9996        101699.77       0  \n",
       "9997         42085.58       1  \n",
       "9998         92888.52       1  \n",
       "9999         38190.78       0  \n",
       "\n",
       "[10000 rows x 14 columns]>"
      ]
     },
     "execution_count": 196,
     "metadata": {},
     "output_type": "execute_result"
    }
   ],
   "source": [
    "data.head"
   ]
  },
  {
   "cell_type": "markdown",
   "id": "5780ac45-a6c8-4874-b6c7-03ef895b2ddb",
   "metadata": {},
   "source": [
    "**Checks that there all values are present**"
   ]
  },
  {
   "cell_type": "code",
   "execution_count": 197,
   "id": "925ed365-9147-4219-a0e0-596011ce6335",
   "metadata": {},
   "outputs": [
    {
     "data": {
      "text/plain": [
       "RowNumber          0\n",
       "CustomerId         0\n",
       "Surname            0\n",
       "CreditScore        0\n",
       "Geography          0\n",
       "Gender             0\n",
       "Age                0\n",
       "Tenure             0\n",
       "Balance            0\n",
       "NumOfProducts      0\n",
       "HasCrCard          0\n",
       "IsActiveMember     0\n",
       "EstimatedSalary    0\n",
       "Exited             0\n",
       "dtype: int64"
      ]
     },
     "execution_count": 197,
     "metadata": {},
     "output_type": "execute_result"
    }
   ],
   "source": [
    "data.isnull().sum()"
   ]
  },
  {
   "cell_type": "markdown",
   "id": "827047a4-8263-4fb6-9c8e-5f0a1402fd4b",
   "metadata": {},
   "source": [
    "**Assigns columns to X(features) and y(target)**"
   ]
  },
  {
   "cell_type": "code",
   "execution_count": 204,
   "id": "8b917b20-c8e5-46c9-82b7-4237372d9023",
   "metadata": {},
   "outputs": [],
   "source": [
    "X = data[[\"CreditScore\", \"Age\", \"Tenure\", \"Balance\", \"NumOfProducts\", \"EstimatedSalary\"]]\n",
    "# X = data[[\"Area\", \"Eccentricity\", \"Extent\"]]\n",
    "y = data[\"Exited\"] \n",
    "\n"
   ]
  },
  {
   "cell_type": "markdown",
   "id": "b3f7b789-7f7d-4242-b7df-2e1aa20d85b7",
   "metadata": {},
   "source": [
    "**Splits the dataset into training and testing data with 30% being for testing**"
   ]
  },
  {
   "cell_type": "code",
   "execution_count": 205,
   "id": "ccbd739b-2dfe-4cca-9514-a28023abb75f",
   "metadata": {},
   "outputs": [],
   "source": [
    "X_train, X_test, y_train, y_test = train_test_split(X, y, test_size=0.2, random_state=9, stratify=y)"
   ]
  },
  {
   "cell_type": "code",
   "execution_count": 206,
   "id": "f755bc10-a302-417a-ac00-81677187f65c",
   "metadata": {},
   "outputs": [],
   "source": [
    "X_train, X_val, y_train, y_val = train_test_split(X_train, y_train, test_size=0.2, stratify=y_train)"
   ]
  },
  {
   "cell_type": "markdown",
   "id": "7bb92554-cbd6-4ecb-a3b3-c332ce0ba9fa",
   "metadata": {},
   "source": [
    "**Uses a label encoder to transform the two target strings into binary**"
   ]
  },
  {
   "cell_type": "code",
   "execution_count": 201,
   "id": "46ef80b1-0f84-4ac6-aa4b-7f7b819d2a37",
   "metadata": {},
   "outputs": [],
   "source": [
    "label_encoder = LabelEncoder()\n",
    "data['Gender'] = label_encoder.fit_transform(data['Gender'])\n"
   ]
  },
  {
   "cell_type": "markdown",
   "id": "200205ae-fcd6-4962-830b-b6f479d45b2a",
   "metadata": {},
   "source": [
    "**Fits the min max scaler to the training data**"
   ]
  },
  {
   "cell_type": "code",
   "execution_count": 207,
   "id": "6557ae1f-7f1d-41da-b789-53c3525c8304",
   "metadata": {},
   "outputs": [
    {
     "data": {
      "text/html": [
       "<div>\n",
       "<style scoped>\n",
       "    .dataframe tbody tr th:only-of-type {\n",
       "        vertical-align: middle;\n",
       "    }\n",
       "\n",
       "    .dataframe tbody tr th {\n",
       "        vertical-align: top;\n",
       "    }\n",
       "\n",
       "    .dataframe thead th {\n",
       "        text-align: right;\n",
       "    }\n",
       "</style>\n",
       "<table border=\"1\" class=\"dataframe\">\n",
       "  <thead>\n",
       "    <tr style=\"text-align: right;\">\n",
       "      <th></th>\n",
       "      <th>CreditScore</th>\n",
       "      <th>Age</th>\n",
       "      <th>Tenure</th>\n",
       "      <th>Balance</th>\n",
       "      <th>NumOfProducts</th>\n",
       "      <th>EstimatedSalary</th>\n",
       "    </tr>\n",
       "  </thead>\n",
       "  <tbody>\n",
       "    <tr>\n",
       "      <th>3814</th>\n",
       "      <td>646</td>\n",
       "      <td>30</td>\n",
       "      <td>7</td>\n",
       "      <td>0.00</td>\n",
       "      <td>2</td>\n",
       "      <td>153566.97</td>\n",
       "    </tr>\n",
       "    <tr>\n",
       "      <th>6873</th>\n",
       "      <td>628</td>\n",
       "      <td>37</td>\n",
       "      <td>9</td>\n",
       "      <td>0.00</td>\n",
       "      <td>2</td>\n",
       "      <td>34689.77</td>\n",
       "    </tr>\n",
       "    <tr>\n",
       "      <th>2537</th>\n",
       "      <td>573</td>\n",
       "      <td>33</td>\n",
       "      <td>0</td>\n",
       "      <td>90124.64</td>\n",
       "      <td>1</td>\n",
       "      <td>137476.71</td>\n",
       "    </tr>\n",
       "    <tr>\n",
       "      <th>3694</th>\n",
       "      <td>608</td>\n",
       "      <td>33</td>\n",
       "      <td>4</td>\n",
       "      <td>0.00</td>\n",
       "      <td>1</td>\n",
       "      <td>79304.38</td>\n",
       "    </tr>\n",
       "    <tr>\n",
       "      <th>6394</th>\n",
       "      <td>466</td>\n",
       "      <td>41</td>\n",
       "      <td>2</td>\n",
       "      <td>152102.18</td>\n",
       "      <td>2</td>\n",
       "      <td>181879.56</td>\n",
       "    </tr>\n",
       "    <tr>\n",
       "      <th>...</th>\n",
       "      <td>...</td>\n",
       "      <td>...</td>\n",
       "      <td>...</td>\n",
       "      <td>...</td>\n",
       "      <td>...</td>\n",
       "      <td>...</td>\n",
       "    </tr>\n",
       "    <tr>\n",
       "      <th>9123</th>\n",
       "      <td>718</td>\n",
       "      <td>33</td>\n",
       "      <td>7</td>\n",
       "      <td>102874.28</td>\n",
       "      <td>1</td>\n",
       "      <td>117841.06</td>\n",
       "    </tr>\n",
       "    <tr>\n",
       "      <th>2563</th>\n",
       "      <td>843</td>\n",
       "      <td>27</td>\n",
       "      <td>5</td>\n",
       "      <td>0.00</td>\n",
       "      <td>2</td>\n",
       "      <td>67494.23</td>\n",
       "    </tr>\n",
       "    <tr>\n",
       "      <th>837</th>\n",
       "      <td>686</td>\n",
       "      <td>56</td>\n",
       "      <td>5</td>\n",
       "      <td>111642.08</td>\n",
       "      <td>1</td>\n",
       "      <td>80553.87</td>\n",
       "    </tr>\n",
       "    <tr>\n",
       "      <th>6058</th>\n",
       "      <td>668</td>\n",
       "      <td>56</td>\n",
       "      <td>9</td>\n",
       "      <td>110993.79</td>\n",
       "      <td>1</td>\n",
       "      <td>134396.64</td>\n",
       "    </tr>\n",
       "    <tr>\n",
       "      <th>4869</th>\n",
       "      <td>669</td>\n",
       "      <td>50</td>\n",
       "      <td>4</td>\n",
       "      <td>149713.61</td>\n",
       "      <td>3</td>\n",
       "      <td>124872.42</td>\n",
       "    </tr>\n",
       "  </tbody>\n",
       "</table>\n",
       "<p>6400 rows × 6 columns</p>\n",
       "</div>"
      ],
      "text/plain": [
       "      CreditScore  Age  Tenure    Balance  NumOfProducts  EstimatedSalary\n",
       "3814          646   30       7       0.00              2        153566.97\n",
       "6873          628   37       9       0.00              2         34689.77\n",
       "2537          573   33       0   90124.64              1        137476.71\n",
       "3694          608   33       4       0.00              1         79304.38\n",
       "6394          466   41       2  152102.18              2        181879.56\n",
       "...           ...  ...     ...        ...            ...              ...\n",
       "9123          718   33       7  102874.28              1        117841.06\n",
       "2563          843   27       5       0.00              2         67494.23\n",
       "837           686   56       5  111642.08              1         80553.87\n",
       "6058          668   56       9  110993.79              1        134396.64\n",
       "4869          669   50       4  149713.61              3        124872.42\n",
       "\n",
       "[6400 rows x 6 columns]"
      ]
     },
     "execution_count": 207,
     "metadata": {},
     "output_type": "execute_result"
    }
   ],
   "source": [
    "X_train"
   ]
  },
  {
   "cell_type": "code",
   "execution_count": 208,
   "id": "b77a1a6e-1459-495f-a6a0-9d921b321adf",
   "metadata": {},
   "outputs": [
    {
     "data": {
      "text/plain": [
       "array([[0.592     , 0.16216216, 0.7       , 0.        , 0.33333333,\n",
       "        0.76785028],\n",
       "       [0.556     , 0.25675676, 0.9       , 0.        , 0.33333333,\n",
       "        0.17340751],\n",
       "       [0.446     , 0.2027027 , 0.        , 0.40682301, 0.        ,\n",
       "        0.6873913 ],\n",
       "       ...,\n",
       "       [0.672     , 0.51351351, 0.5       , 0.50395282, 0.        ,\n",
       "        0.40274991],\n",
       "       [0.636     , 0.51351351, 0.9       , 0.50102644, 0.        ,\n",
       "        0.67198947],\n",
       "       [0.638     , 0.43243243, 0.4       , 0.67580787, 0.66666667,\n",
       "        0.62436383]])"
      ]
     },
     "execution_count": 208,
     "metadata": {},
     "output_type": "execute_result"
    }
   ],
   "source": [
    "X_train_scaled = MinMaxScaler().fit_transform(X_train)\n",
    "X_train_scaled"
   ]
  },
  {
   "cell_type": "markdown",
   "id": "9b4933ad-767e-4e25-be4c-29377120194a",
   "metadata": {},
   "source": [
    "Converts all the values into a value between 0 and 1 so that columns with significantly larger values do not dominate the decisions"
   ]
  },
  {
   "cell_type": "markdown",
   "id": "5efdc2f6-4f02-40e3-8ceb-15ff0ecf2ec4",
   "metadata": {},
   "source": [
    "**Fits a logistic regression machine learning model to the training data**"
   ]
  },
  {
   "cell_type": "code",
   "execution_count": 214,
   "id": "176b16f2-2160-41ab-9a5f-b062aab89628",
   "metadata": {},
   "outputs": [],
   "source": [
    "model_accuracy_results = []"
   ]
  },
  {
   "cell_type": "code",
   "execution_count": 215,
   "id": "9104ed56-54e0-4864-a16c-d222c290a650",
   "metadata": {},
   "outputs": [],
   "source": [
    "log_reg = LogisticRegression(random_state=9, max_iter=10000)\n",
    "log_reg.fit(X_train, y_train)\n",
    "y_pred_val = log_reg.predict(X_val)\n",
    "model_accuracy_results.append(accuracy_score(y_val, y_pred_val))\n"
   ]
  },
  {
   "cell_type": "code",
   "execution_count": 216,
   "id": "afc56d28-41f0-40ec-9bb1-a3a74ca6edbe",
   "metadata": {},
   "outputs": [],
   "source": [
    "knn = KNeighborsClassifier()\n",
    "knn.fit(X_train, y_train)\n",
    "y_pred_val = knn.predict(X_val)\n",
    "model_accuracy_results.append(accuracy_score(y_val, y_pred_val))\n"
   ]
  },
  {
   "cell_type": "code",
   "execution_count": 217,
   "id": "81897d83-5158-4d7c-987a-3ec5deaf82f8",
   "metadata": {},
   "outputs": [
    {
     "name": "stdout",
     "output_type": "stream",
     "text": [
      "0.77625\n",
      "0.7575\n"
     ]
    }
   ],
   "source": [
    "for score in model_accuracy_results:\n",
    "    print(score)"
   ]
  },
  {
   "cell_type": "markdown",
   "id": "de7e7a96-59a5-4b79-aa99-dec86578c2f1",
   "metadata": {},
   "source": [
    "**Tests the prediction of the model on test data**"
   ]
  },
  {
   "cell_type": "markdown",
   "id": "b11857dc-9e1a-44cf-b138-6dabaa89e9fd",
   "metadata": {},
   "source": [
    "**Creates a confusion matrix**"
   ]
  },
  {
   "cell_type": "code",
   "execution_count": 218,
   "id": "76a4e321-fa11-408c-b37a-c6adba00ea66",
   "metadata": {},
   "outputs": [],
   "source": [
    "cnf_matrix = confusion_matrix(y_val, y_pred_val)"
   ]
  },
  {
   "cell_type": "code",
   "execution_count": 117,
   "id": "d2fa762c-36f6-4c35-a64d-efe66b0913fe",
   "metadata": {},
   "outputs": [
    {
     "data": {
      "text/plain": [
       "array([[80, 16],\n",
       "       [17, 67]], dtype=int64)"
      ]
     },
     "execution_count": 117,
     "metadata": {},
     "output_type": "execute_result"
    }
   ],
   "source": [
    "cnf_matrix\n"
   ]
  },
  {
   "cell_type": "markdown",
   "id": "fe9ae189-7716-49d0-ac55-0353f5ad1da3",
   "metadata": {},
   "source": [
    "The top left(True positive) and bottom right(True negative) have high values which shows the model is relatively accurate with predictions"
   ]
  },
  {
   "cell_type": "code",
   "execution_count": 118,
   "id": "a454267f-a5f0-4097-9e2f-08f6326e4e37",
   "metadata": {},
   "outputs": [
    {
     "data": {
      "text/plain": [
       "0.8166666666666667"
      ]
     },
     "execution_count": 118,
     "metadata": {},
     "output_type": "execute_result"
    }
   ],
   "source": [
    "accuracy_score(y_test, y_pred)"
   ]
  },
  {
   "cell_type": "code",
   "execution_count": 119,
   "id": "4c9e9657-05d9-4302-b94d-796af715f4a3",
   "metadata": {},
   "outputs": [
    {
     "data": {
      "text/plain": [
       "0.8023952095808383"
      ]
     },
     "execution_count": 119,
     "metadata": {},
     "output_type": "execute_result"
    }
   ],
   "source": [
    "f1_test_score = f1_score(y_test, y_pred)\n",
    "f1_test_score"
   ]
  },
  {
   "cell_type": "code",
   "execution_count": 120,
   "id": "0526276b-e7b7-4a32-9c0e-ecfcd7d08b55",
   "metadata": {},
   "outputs": [
    {
     "ename": "ValueError",
     "evalue": "The feature names should match those that were passed during fit.\nFeature names seen at fit time, yet now missing:\n- ConvexArea\n- MajorAxisLength\n- MinorAxisLength\n- Perimeter\n",
     "output_type": "error",
     "traceback": [
      "\u001b[1;31m---------------------------------------------------------------------------\u001b[0m",
      "\u001b[1;31mValueError\u001b[0m                                Traceback (most recent call last)",
      "Cell \u001b[1;32mIn[120], line 12\u001b[0m\n\u001b[0;32m      1\u001b[0m test_record \u001b[38;5;241m=\u001b[39m {\n\u001b[0;32m      2\u001b[0m     \u001b[38;5;124m\"\u001b[39m\u001b[38;5;124mArea\u001b[39m\u001b[38;5;124m\"\u001b[39m: \u001b[38;5;241m75000\u001b[39m,\n\u001b[0;32m      3\u001b[0m     \u001b[38;5;66;03m# \"MajorAxisLength\": 600,\u001b[39;00m\n\u001b[1;32m   (...)\u001b[0m\n\u001b[0;32m      8\u001b[0m     \u001b[38;5;66;03m# \"Perimeter\": 1000}\u001b[39;00m\n\u001b[0;32m      9\u001b[0m }\n\u001b[0;32m     11\u001b[0m test_record_df \u001b[38;5;241m=\u001b[39m pd\u001b[38;5;241m.\u001b[39mDataFrame([test_record])\n\u001b[1;32m---> 12\u001b[0m test_prediction \u001b[38;5;241m=\u001b[39m \u001b[43mlog_reg\u001b[49m\u001b[38;5;241;43m.\u001b[39;49m\u001b[43mpredict\u001b[49m\u001b[43m(\u001b[49m\u001b[43mtest_record_df\u001b[49m\u001b[43m)\u001b[49m\n\u001b[0;32m     14\u001b[0m test_prediction\n",
      "File \u001b[1;32m~\\PycharmProjects\\Chatbot\\.venv\\Lib\\site-packages\\sklearn\\linear_model\\_base.py:382\u001b[0m, in \u001b[0;36mLinearClassifierMixin.predict\u001b[1;34m(self, X)\u001b[0m\n\u001b[0;32m    368\u001b[0m \u001b[38;5;250m\u001b[39m\u001b[38;5;124;03m\"\"\"\u001b[39;00m\n\u001b[0;32m    369\u001b[0m \u001b[38;5;124;03mPredict class labels for samples in X.\u001b[39;00m\n\u001b[0;32m    370\u001b[0m \n\u001b[1;32m   (...)\u001b[0m\n\u001b[0;32m    379\u001b[0m \u001b[38;5;124;03m    Vector containing the class labels for each sample.\u001b[39;00m\n\u001b[0;32m    380\u001b[0m \u001b[38;5;124;03m\"\"\"\u001b[39;00m\n\u001b[0;32m    381\u001b[0m xp, _ \u001b[38;5;241m=\u001b[39m get_namespace(X)\n\u001b[1;32m--> 382\u001b[0m scores \u001b[38;5;241m=\u001b[39m \u001b[38;5;28;43mself\u001b[39;49m\u001b[38;5;241;43m.\u001b[39;49m\u001b[43mdecision_function\u001b[49m\u001b[43m(\u001b[49m\u001b[43mX\u001b[49m\u001b[43m)\u001b[49m\n\u001b[0;32m    383\u001b[0m \u001b[38;5;28;01mif\u001b[39;00m \u001b[38;5;28mlen\u001b[39m(scores\u001b[38;5;241m.\u001b[39mshape) \u001b[38;5;241m==\u001b[39m \u001b[38;5;241m1\u001b[39m:\n\u001b[0;32m    384\u001b[0m     indices \u001b[38;5;241m=\u001b[39m xp\u001b[38;5;241m.\u001b[39mastype(scores \u001b[38;5;241m>\u001b[39m \u001b[38;5;241m0\u001b[39m, indexing_dtype(xp))\n",
      "File \u001b[1;32m~\\PycharmProjects\\Chatbot\\.venv\\Lib\\site-packages\\sklearn\\linear_model\\_base.py:363\u001b[0m, in \u001b[0;36mLinearClassifierMixin.decision_function\u001b[1;34m(self, X)\u001b[0m\n\u001b[0;32m    360\u001b[0m check_is_fitted(\u001b[38;5;28mself\u001b[39m)\n\u001b[0;32m    361\u001b[0m xp, _ \u001b[38;5;241m=\u001b[39m get_namespace(X)\n\u001b[1;32m--> 363\u001b[0m X \u001b[38;5;241m=\u001b[39m \u001b[38;5;28;43mself\u001b[39;49m\u001b[38;5;241;43m.\u001b[39;49m\u001b[43m_validate_data\u001b[49m\u001b[43m(\u001b[49m\u001b[43mX\u001b[49m\u001b[43m,\u001b[49m\u001b[43m \u001b[49m\u001b[43maccept_sparse\u001b[49m\u001b[38;5;241;43m=\u001b[39;49m\u001b[38;5;124;43m\"\u001b[39;49m\u001b[38;5;124;43mcsr\u001b[39;49m\u001b[38;5;124;43m\"\u001b[39;49m\u001b[43m,\u001b[49m\u001b[43m \u001b[49m\u001b[43mreset\u001b[49m\u001b[38;5;241;43m=\u001b[39;49m\u001b[38;5;28;43;01mFalse\u001b[39;49;00m\u001b[43m)\u001b[49m\n\u001b[0;32m    364\u001b[0m scores \u001b[38;5;241m=\u001b[39m safe_sparse_dot(X, \u001b[38;5;28mself\u001b[39m\u001b[38;5;241m.\u001b[39mcoef_\u001b[38;5;241m.\u001b[39mT, dense_output\u001b[38;5;241m=\u001b[39m\u001b[38;5;28;01mTrue\u001b[39;00m) \u001b[38;5;241m+\u001b[39m \u001b[38;5;28mself\u001b[39m\u001b[38;5;241m.\u001b[39mintercept_\n\u001b[0;32m    365\u001b[0m \u001b[38;5;28;01mreturn\u001b[39;00m xp\u001b[38;5;241m.\u001b[39mreshape(scores, (\u001b[38;5;241m-\u001b[39m\u001b[38;5;241m1\u001b[39m,)) \u001b[38;5;28;01mif\u001b[39;00m scores\u001b[38;5;241m.\u001b[39mshape[\u001b[38;5;241m1\u001b[39m] \u001b[38;5;241m==\u001b[39m \u001b[38;5;241m1\u001b[39m \u001b[38;5;28;01melse\u001b[39;00m scores\n",
      "File \u001b[1;32m~\\PycharmProjects\\Chatbot\\.venv\\Lib\\site-packages\\sklearn\\base.py:608\u001b[0m, in \u001b[0;36mBaseEstimator._validate_data\u001b[1;34m(self, X, y, reset, validate_separately, cast_to_ndarray, **check_params)\u001b[0m\n\u001b[0;32m    537\u001b[0m \u001b[38;5;28;01mdef\u001b[39;00m \u001b[38;5;21m_validate_data\u001b[39m(\n\u001b[0;32m    538\u001b[0m     \u001b[38;5;28mself\u001b[39m,\n\u001b[0;32m    539\u001b[0m     X\u001b[38;5;241m=\u001b[39m\u001b[38;5;124m\"\u001b[39m\u001b[38;5;124mno_validation\u001b[39m\u001b[38;5;124m\"\u001b[39m,\n\u001b[1;32m   (...)\u001b[0m\n\u001b[0;32m    544\u001b[0m     \u001b[38;5;241m*\u001b[39m\u001b[38;5;241m*\u001b[39mcheck_params,\n\u001b[0;32m    545\u001b[0m ):\n\u001b[0;32m    546\u001b[0m \u001b[38;5;250m    \u001b[39m\u001b[38;5;124;03m\"\"\"Validate input data and set or check the `n_features_in_` attribute.\u001b[39;00m\n\u001b[0;32m    547\u001b[0m \n\u001b[0;32m    548\u001b[0m \u001b[38;5;124;03m    Parameters\u001b[39;00m\n\u001b[1;32m   (...)\u001b[0m\n\u001b[0;32m    606\u001b[0m \u001b[38;5;124;03m        validated.\u001b[39;00m\n\u001b[0;32m    607\u001b[0m \u001b[38;5;124;03m    \"\"\"\u001b[39;00m\n\u001b[1;32m--> 608\u001b[0m     \u001b[38;5;28;43mself\u001b[39;49m\u001b[38;5;241;43m.\u001b[39;49m\u001b[43m_check_feature_names\u001b[49m\u001b[43m(\u001b[49m\u001b[43mX\u001b[49m\u001b[43m,\u001b[49m\u001b[43m \u001b[49m\u001b[43mreset\u001b[49m\u001b[38;5;241;43m=\u001b[39;49m\u001b[43mreset\u001b[49m\u001b[43m)\u001b[49m\n\u001b[0;32m    610\u001b[0m     \u001b[38;5;28;01mif\u001b[39;00m y \u001b[38;5;129;01mis\u001b[39;00m \u001b[38;5;28;01mNone\u001b[39;00m \u001b[38;5;129;01mand\u001b[39;00m \u001b[38;5;28mself\u001b[39m\u001b[38;5;241m.\u001b[39m_get_tags()[\u001b[38;5;124m\"\u001b[39m\u001b[38;5;124mrequires_y\u001b[39m\u001b[38;5;124m\"\u001b[39m]:\n\u001b[0;32m    611\u001b[0m         \u001b[38;5;28;01mraise\u001b[39;00m \u001b[38;5;167;01mValueError\u001b[39;00m(\n\u001b[0;32m    612\u001b[0m             \u001b[38;5;124mf\u001b[39m\u001b[38;5;124m\"\u001b[39m\u001b[38;5;124mThis \u001b[39m\u001b[38;5;132;01m{\u001b[39;00m\u001b[38;5;28mself\u001b[39m\u001b[38;5;241m.\u001b[39m\u001b[38;5;18m__class__\u001b[39m\u001b[38;5;241m.\u001b[39m\u001b[38;5;18m__name__\u001b[39m\u001b[38;5;132;01m}\u001b[39;00m\u001b[38;5;124m estimator \u001b[39m\u001b[38;5;124m\"\u001b[39m\n\u001b[0;32m    613\u001b[0m             \u001b[38;5;124m\"\u001b[39m\u001b[38;5;124mrequires y to be passed, but the target y is None.\u001b[39m\u001b[38;5;124m\"\u001b[39m\n\u001b[0;32m    614\u001b[0m         )\n",
      "File \u001b[1;32m~\\PycharmProjects\\Chatbot\\.venv\\Lib\\site-packages\\sklearn\\base.py:535\u001b[0m, in \u001b[0;36mBaseEstimator._check_feature_names\u001b[1;34m(self, X, reset)\u001b[0m\n\u001b[0;32m    530\u001b[0m \u001b[38;5;28;01mif\u001b[39;00m \u001b[38;5;129;01mnot\u001b[39;00m missing_names \u001b[38;5;129;01mand\u001b[39;00m \u001b[38;5;129;01mnot\u001b[39;00m unexpected_names:\n\u001b[0;32m    531\u001b[0m     message \u001b[38;5;241m+\u001b[39m\u001b[38;5;241m=\u001b[39m (\n\u001b[0;32m    532\u001b[0m         \u001b[38;5;124m\"\u001b[39m\u001b[38;5;124mFeature names must be in the same order as they were in fit.\u001b[39m\u001b[38;5;130;01m\\n\u001b[39;00m\u001b[38;5;124m\"\u001b[39m\n\u001b[0;32m    533\u001b[0m     )\n\u001b[1;32m--> 535\u001b[0m \u001b[38;5;28;01mraise\u001b[39;00m \u001b[38;5;167;01mValueError\u001b[39;00m(message)\n",
      "\u001b[1;31mValueError\u001b[0m: The feature names should match those that were passed during fit.\nFeature names seen at fit time, yet now missing:\n- ConvexArea\n- MajorAxisLength\n- MinorAxisLength\n- Perimeter\n"
     ]
    }
   ],
   "source": [
    "test_record = {\n",
    "    \"Area\": 75000,\n",
    "    # \"MajorAxisLength\": 600,\n",
    "    # \"MinorAxisLength\": 200,\n",
    "    \"Eccentricity\": 0.7,\n",
    "    # \"ConvexArea\": 200000,\n",
    "    \"Extent\": 0.7,\n",
    "    # \"Perimeter\": 1000}\n",
    "}\n",
    "\n",
    "test_record_df = pd.DataFrame([test_record])\n",
    "test_prediction = log_reg.predict(test_record_df)\n",
    "\n",
    "test_prediction"
   ]
  },
  {
   "cell_type": "code",
   "execution_count": null,
   "id": "c592c45c-2b9c-4ecc-ba8a-70d887ee16e4",
   "metadata": {},
   "outputs": [],
   "source": []
  }
 ],
 "metadata": {
  "kernelspec": {
   "display_name": "Python 3 (ipykernel)",
   "language": "python",
   "name": "python3"
  },
  "language_info": {
   "codemirror_mode": {
    "name": "ipython",
    "version": 3
   },
   "file_extension": ".py",
   "mimetype": "text/x-python",
   "name": "python",
   "nbconvert_exporter": "python",
   "pygments_lexer": "ipython3",
   "version": "3.12.4"
  }
 },
 "nbformat": 4,
 "nbformat_minor": 5
}
